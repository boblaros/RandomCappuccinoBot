{
 "cells": [
  {
   "cell_type": "code",
   "execution_count": 29,
   "id": "fd40b115-5adf-4242-8db3-dbd03c97da0e",
   "metadata": {},
   "outputs": [],
   "source": [
    "import sqlite3\n",
    "import pandas as pd"
   ]
  },
  {
   "cell_type": "code",
   "execution_count": 30,
   "id": "ebbc3f3a-5a75-4840-a319-e4f995fac61d",
   "metadata": {},
   "outputs": [],
   "source": [
    "conn = sqlite3.connect('random_cappuccino.db', check_same_thread=False)\n",
    "cursor = conn.cursor()"
   ]
  },
  {
   "cell_type": "code",
   "execution_count": 31,
   "id": "da22bab2-1c11-4ddd-9cbe-de02cd49fe8b",
   "metadata": {},
   "outputs": [],
   "source": [
    "# Предположим, что у нас есть подключение к базе данных и объект курсора (cursor)\n",
    "cursor.execute('SELECT * FROM users')\n",
    "\n",
    "# Используем метод fetchall() для получения всех строк результата\n",
    "result = cursor.fetchall()"
   ]
  },
  {
   "cell_type": "code",
   "execution_count": 32,
   "id": "775424b2-8bc1-4000-84b7-cb86ce9980a7",
   "metadata": {},
   "outputs": [],
   "source": [
    "df = pd.DataFrame(result)"
   ]
  },
  {
   "cell_type": "code",
   "execution_count": 33,
   "id": "ba5d7bd1-454a-49b2-af20-f5f19a917082",
   "metadata": {},
   "outputs": [
    {
     "data": {
      "text/html": [
       "<div>\n",
       "<style scoped>\n",
       "    .dataframe tbody tr th:only-of-type {\n",
       "        vertical-align: middle;\n",
       "    }\n",
       "\n",
       "    .dataframe tbody tr th {\n",
       "        vertical-align: top;\n",
       "    }\n",
       "\n",
       "    .dataframe thead th {\n",
       "        text-align: right;\n",
       "    }\n",
       "</style>\n",
       "<table border=\"1\" class=\"dataframe\">\n",
       "  <thead>\n",
       "    <tr style=\"text-align: right;\">\n",
       "      <th></th>\n",
       "      <th>0</th>\n",
       "      <th>1</th>\n",
       "      <th>2</th>\n",
       "      <th>3</th>\n",
       "      <th>4</th>\n",
       "      <th>5</th>\n",
       "      <th>6</th>\n",
       "      <th>7</th>\n",
       "      <th>8</th>\n",
       "      <th>9</th>\n",
       "    </tr>\n",
       "  </thead>\n",
       "  <tbody>\n",
       "    <tr>\n",
       "      <th>0</th>\n",
       "      <td>2776668227</td>\n",
       "      <td>polina.drofa@studbocconi.it</td>\n",
       "      <td>polina</td>\n",
       "      <td>Milan?</td>\n",
       "      <td>Unknown</td>\n",
       "      <td>Unknown</td>\n",
       "      <td>Unknown</td>\n",
       "      <td>0</td>\n",
       "      <td>ml</td>\n",
       "      <td></td>\n",
       "    </tr>\n",
       "    <tr>\n",
       "      <th>1</th>\n",
       "      <td>2776670430</td>\n",
       "      <td>polina.drofa@studbocconi.it</td>\n",
       "      <td>з</td>\n",
       "      <td>Milan?</td>\n",
       "      <td>Unknown</td>\n",
       "      <td>Unknown</td>\n",
       "      <td>Unknown</td>\n",
       "      <td>0</td>\n",
       "      <td>h</td>\n",
       "      <td></td>\n",
       "    </tr>\n",
       "    <tr>\n",
       "      <th>2</th>\n",
       "      <td>2776671061</td>\n",
       "      <td>polina.drofa@studbocconi.it</td>\n",
       "      <td>Polina</td>\n",
       "      <td>Milan?</td>\n",
       "      <td>Unknown</td>\n",
       "      <td>Unknown</td>\n",
       "      <td>Unknown</td>\n",
       "      <td>0</td>\n",
       "      <td>Milan</td>\n",
       "      <td></td>\n",
       "    </tr>\n",
       "    <tr>\n",
       "      <th>3</th>\n",
       "      <td>2776672282</td>\n",
       "      <td>polina.drofa@studbocconi.it</td>\n",
       "      <td>Polina d</td>\n",
       "      <td>milan</td>\n",
       "      <td>stud</td>\n",
       "      <td>mfin</td>\n",
       "      <td>lalalla</td>\n",
       "      <td>22</td>\n",
       "      <td>-</td>\n",
       "      <td></td>\n",
       "    </tr>\n",
       "  </tbody>\n",
       "</table>\n",
       "</div>"
      ],
      "text/plain": [
       "            0                            1         2       3        4  \\\n",
       "0  2776668227  polina.drofa@studbocconi.it    polina  Milan?  Unknown   \n",
       "1  2776670430  polina.drofa@studbocconi.it         з  Milan?  Unknown   \n",
       "2  2776671061  polina.drofa@studbocconi.it    Polina  Milan?  Unknown   \n",
       "3  2776672282  polina.drofa@studbocconi.it  Polina d   milan     stud   \n",
       "\n",
       "         5        6   7      8 9  \n",
       "0  Unknown  Unknown   0     ml    \n",
       "1  Unknown  Unknown   0      h    \n",
       "2  Unknown  Unknown   0  Milan    \n",
       "3     mfin  lalalla  22      -    "
      ]
     },
     "execution_count": 33,
     "metadata": {},
     "output_type": "execute_result"
    }
   ],
   "source": [
    "df"
   ]
  },
  {
   "cell_type": "code",
   "execution_count": null,
   "id": "77b1e0ae-1199-40b1-9500-bc150f34cd7a",
   "metadata": {},
   "outputs": [],
   "source": []
  }
 ],
 "metadata": {
  "kernelspec": {
   "display_name": "Python 3 (ipykernel)",
   "language": "python",
   "name": "python3"
  },
  "language_info": {
   "codemirror_mode": {
    "name": "ipython",
    "version": 3
   },
   "file_extension": ".py",
   "mimetype": "text/x-python",
   "name": "python",
   "nbconvert_exporter": "python",
   "pygments_lexer": "ipython3",
   "version": "3.11.7"
  }
 },
 "nbformat": 4,
 "nbformat_minor": 5
}
