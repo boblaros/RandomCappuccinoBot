{
 "cells": [
  {
   "cell_type": "code",
   "execution_count": 32,
   "id": "fd40b115-5adf-4242-8db3-dbd03c97da0e",
   "metadata": {},
   "outputs": [],
   "source": [
    "import sqlite3\n",
    "import pandas as pd"
   ]
  },
  {
   "cell_type": "code",
   "execution_count": 33,
   "id": "690c4d44-ff84-47a9-a944-91e69f11e922",
   "metadata": {},
   "outputs": [
    {
     "data": {
      "text/html": [
       "<div>\n",
       "<style scoped>\n",
       "    .dataframe tbody tr th:only-of-type {\n",
       "        vertical-align: middle;\n",
       "    }\n",
       "\n",
       "    .dataframe tbody tr th {\n",
       "        vertical-align: top;\n",
       "    }\n",
       "\n",
       "    .dataframe thead th {\n",
       "        text-align: right;\n",
       "    }\n",
       "</style>\n",
       "<table border=\"1\" class=\"dataframe\">\n",
       "  <thead>\n",
       "    <tr style=\"text-align: right;\">\n",
       "      <th></th>\n",
       "      <th>id</th>\n",
       "      <th>email</th>\n",
       "      <th>name</th>\n",
       "      <th>city</th>\n",
       "      <th>occupation</th>\n",
       "      <th>program</th>\n",
       "      <th>interests</th>\n",
       "      <th>age</th>\n",
       "      <th>contacts</th>\n",
       "      <th>status</th>\n",
       "      <th>previous_pairs</th>\n",
       "    </tr>\n",
       "  </thead>\n",
       "  <tbody>\n",
       "    <tr>\n",
       "      <th>0</th>\n",
       "      <td>1047815414</td>\n",
       "      <td>polina.drofa@studbocconi.it</td>\n",
       "      <td>Polina Drofa</td>\n",
       "      <td>Milan</td>\n",
       "      <td>student</td>\n",
       "      <td>Finance</td>\n",
       "      <td>ai, sport, books</td>\n",
       "      <td>22</td>\n",
       "      <td>9154661832</td>\n",
       "      <td>1</td>\n",
       "      <td>,431037906,431037906,431037906,431037906,43103...</td>\n",
       "    </tr>\n",
       "    <tr>\n",
       "      <th>1</th>\n",
       "      <td>7776344440</td>\n",
       "      <td>georgii.kutivadze@gmail.com</td>\n",
       "      <td>Giorgio Kutini</td>\n",
       "      <td>Moscow</td>\n",
       "      <td>Working</td>\n",
       "      <td>DS</td>\n",
       "      <td>Swimming, Football, Chess</td>\n",
       "      <td>23</td>\n",
       "      <td>121212</td>\n",
       "      <td>1</td>\n",
       "      <td>,7885163270,7885163270,7885163270,7885163270,7...</td>\n",
       "    </tr>\n",
       "    <tr>\n",
       "      <th>2</th>\n",
       "      <td>7885163270</td>\n",
       "      <td>polinadrofa@icloud.com</td>\n",
       "      <td>P D</td>\n",
       "      <td>Milan</td>\n",
       "      <td>stud</td>\n",
       "      <td>Finanza</td>\n",
       "      <td>football, travelling, smthelse</td>\n",
       "      <td>23</td>\n",
       "      <td>88888888888</td>\n",
       "      <td>1</td>\n",
       "      <td>,7776344440,7776344440,7776344440,7776344440,7...</td>\n",
       "    </tr>\n",
       "  </tbody>\n",
       "</table>\n",
       "</div>"
      ],
      "text/plain": [
       "           id                        email            name    city occupation  \\\n",
       "0  1047815414  polina.drofa@studbocconi.it    Polina Drofa   Milan    student   \n",
       "1  7776344440  georgii.kutivadze@gmail.com  Giorgio Kutini  Moscow    Working   \n",
       "2  7885163270       polinadrofa@icloud.com             P D   Milan       stud   \n",
       "\n",
       "   program                       interests  age     contacts status  \\\n",
       "0  Finance                ai, sport, books   22   9154661832      1   \n",
       "1       DS       Swimming, Football, Chess   23       121212      1   \n",
       "2  Finanza  football, travelling, smthelse   23  88888888888      1   \n",
       "\n",
       "                                      previous_pairs  \n",
       "0  ,431037906,431037906,431037906,431037906,43103...  \n",
       "1  ,7885163270,7885163270,7885163270,7885163270,7...  \n",
       "2  ,7776344440,7776344440,7776344440,7776344440,7...  "
      ]
     },
     "metadata": {},
     "output_type": "display_data"
    }
   ],
   "source": [
    "conn = sqlite3.connect('random_cappuccino.db')\n",
    "\n",
    "query = \"SELECT * FROM users\"\n",
    "\n",
    "df = pd.read_sql_query(query, conn)\n",
    "\n",
    "conn.close()\n",
    "\n",
    "display(df)"
   ]
  },
  {
   "cell_type": "code",
   "execution_count": 11,
   "id": "ab2208a5-e68c-441c-b6f3-d18ccf3de720",
   "metadata": {},
   "outputs": [
    {
     "data": {
      "text/plain": [
       "',7776344440,7776344440,7776344440,7776344440,7776344440'"
      ]
     },
     "execution_count": 11,
     "metadata": {},
     "output_type": "execute_result"
    }
   ],
   "source": [
    "df['previous_pairs'][3]"
   ]
  },
  {
   "cell_type": "markdown",
   "id": "5683a35a-1e04-4657-b49b-7496f493a634",
   "metadata": {},
   "source": [
    "# Feedback dateframe"
   ]
  },
  {
   "cell_type": "code",
   "execution_count": 35,
   "id": "c66fa475-ffcf-4f1e-bda0-1f9930197b40",
   "metadata": {},
   "outputs": [
    {
     "data": {
      "text/html": [
       "<div>\n",
       "<style scoped>\n",
       "    .dataframe tbody tr th:only-of-type {\n",
       "        vertical-align: middle;\n",
       "    }\n",
       "\n",
       "    .dataframe tbody tr th {\n",
       "        vertical-align: top;\n",
       "    }\n",
       "\n",
       "    .dataframe thead th {\n",
       "        text-align: right;\n",
       "    }\n",
       "</style>\n",
       "<table border=\"1\" class=\"dataframe\">\n",
       "  <thead>\n",
       "    <tr style=\"text-align: right;\">\n",
       "      <th></th>\n",
       "      <th>id</th>\n",
       "      <th>user_id</th>\n",
       "      <th>rating</th>\n",
       "      <th>comment</th>\n",
       "      <th>date</th>\n",
       "    </tr>\n",
       "  </thead>\n",
       "  <tbody>\n",
       "    <tr>\n",
       "      <th>0</th>\n",
       "      <td>1</td>\n",
       "      <td>431037906</td>\n",
       "      <td>8</td>\n",
       "      <td>I really like your bot!</td>\n",
       "      <td>2024-12-21 14:45:51</td>\n",
       "    </tr>\n",
       "    <tr>\n",
       "      <th>1</th>\n",
       "      <td>2</td>\n",
       "      <td>431037906</td>\n",
       "      <td>5</td>\n",
       "      <td>So so</td>\n",
       "      <td>2024-12-21 14:55:32</td>\n",
       "    </tr>\n",
       "    <tr>\n",
       "      <th>2</th>\n",
       "      <td>3</td>\n",
       "      <td>7776344440</td>\n",
       "      <td>10</td>\n",
       "      <td>None</td>\n",
       "      <td>2024-12-21 14:56:42</td>\n",
       "    </tr>\n",
       "  </tbody>\n",
       "</table>\n",
       "</div>"
      ],
      "text/plain": [
       "   id     user_id  rating                  comment                 date\n",
       "0   1   431037906       8  I really like your bot!  2024-12-21 14:45:51\n",
       "1   2   431037906       5                    So so  2024-12-21 14:55:32\n",
       "2   3  7776344440      10                     None  2024-12-21 14:56:42"
      ]
     },
     "execution_count": 35,
     "metadata": {},
     "output_type": "execute_result"
    }
   ],
   "source": [
    "db_path = \"random_cappuccino.db\"\n",
    "conn = sqlite3.connect(db_path)\n",
    "query = \"SELECT * FROM feedback\"\n",
    "df = pd.read_sql_query(query, conn)\n",
    "conn.close()\n",
    "df"
   ]
  },
  {
   "cell_type": "code",
   "execution_count": null,
   "id": "3d13c155-f167-4dc3-bb01-c16e6f33d6a9",
   "metadata": {},
   "outputs": [],
   "source": []
  },
  {
   "cell_type": "code",
   "execution_count": null,
   "id": "99dc7e4c-c39c-4c42-b59b-9bee7dff4533",
   "metadata": {},
   "outputs": [],
   "source": []
  }
 ],
 "metadata": {
  "kernelspec": {
   "display_name": "Python 3 (ipykernel)",
   "language": "python",
   "name": "python3"
  },
  "language_info": {
   "codemirror_mode": {
    "name": "ipython",
    "version": 3
   },
   "file_extension": ".py",
   "mimetype": "text/x-python",
   "name": "python",
   "nbconvert_exporter": "python",
   "pygments_lexer": "ipython3",
   "version": "3.12.4"
  }
 },
 "nbformat": 4,
 "nbformat_minor": 5
}
