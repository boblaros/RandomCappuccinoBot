{
 "cells": [
  {
   "cell_type": "code",
   "execution_count": 1,
   "id": "fd40b115-5adf-4242-8db3-dbd03c97da0e",
   "metadata": {},
   "outputs": [],
   "source": [
    "import sqlite3\n",
    "import pandas as pd"
   ]
  },
  {
   "cell_type": "code",
   "execution_count": 2,
   "id": "690c4d44-ff84-47a9-a944-91e69f11e922",
   "metadata": {},
   "outputs": [
    {
     "data": {
      "text/html": [
       "<div>\n",
       "<style scoped>\n",
       "    .dataframe tbody tr th:only-of-type {\n",
       "        vertical-align: middle;\n",
       "    }\n",
       "\n",
       "    .dataframe tbody tr th {\n",
       "        vertical-align: top;\n",
       "    }\n",
       "\n",
       "    .dataframe thead th {\n",
       "        text-align: right;\n",
       "    }\n",
       "</style>\n",
       "<table border=\"1\" class=\"dataframe\">\n",
       "  <thead>\n",
       "    <tr style=\"text-align: right;\">\n",
       "      <th></th>\n",
       "      <th>id</th>\n",
       "      <th>email</th>\n",
       "      <th>name</th>\n",
       "      <th>city</th>\n",
       "      <th>occupation</th>\n",
       "      <th>program</th>\n",
       "      <th>interests</th>\n",
       "      <th>age</th>\n",
       "      <th>contacts</th>\n",
       "      <th>status</th>\n",
       "      <th>previous_pairs</th>\n",
       "    </tr>\n",
       "  </thead>\n",
       "  <tbody>\n",
       "    <tr>\n",
       "      <th>0</th>\n",
       "      <td>431037906</td>\n",
       "      <td>georgii.kutivadze01@icatt.it</td>\n",
       "      <td>Georgii Kutivadze</td>\n",
       "      <td>Moscow</td>\n",
       "      <td>Working</td>\n",
       "      <td>Public Administration</td>\n",
       "      <td>AI, Football</td>\n",
       "      <td>25</td>\n",
       "      <td>121212</td>\n",
       "      <td>1</td>\n",
       "      <td>,7776344440</td>\n",
       "    </tr>\n",
       "    <tr>\n",
       "      <th>1</th>\n",
       "      <td>7776344440</td>\n",
       "      <td>georgii.kutivadze01@icatt.it</td>\n",
       "      <td>Giorgio Kutini</td>\n",
       "      <td>Milano</td>\n",
       "      <td>Studying</td>\n",
       "      <td>Data Analytics</td>\n",
       "      <td>Chess, AI</td>\n",
       "      <td>22</td>\n",
       "      <td>343434</td>\n",
       "      <td>1</td>\n",
       "      <td>,431037906</td>\n",
       "    </tr>\n",
       "  </tbody>\n",
       "</table>\n",
       "</div>"
      ],
      "text/plain": [
       "           id                         email               name    city  \\\n",
       "0   431037906  georgii.kutivadze01@icatt.it  Georgii Kutivadze  Moscow   \n",
       "1  7776344440  georgii.kutivadze01@icatt.it     Giorgio Kutini  Milano   \n",
       "\n",
       "  occupation                program     interests  age contacts status  \\\n",
       "0    Working  Public Administration  AI, Football   25   121212      1   \n",
       "1   Studying         Data Analytics     Chess, AI   22   343434      1   \n",
       "\n",
       "  previous_pairs  \n",
       "0    ,7776344440  \n",
       "1     ,431037906  "
      ]
     },
     "metadata": {},
     "output_type": "display_data"
    }
   ],
   "source": [
    "conn = sqlite3.connect('random_cappuccino.db')\n",
    "\n",
    "query = \"SELECT * FROM users\"\n",
    "\n",
    "df = pd.read_sql_query(query, conn)\n",
    "\n",
    "conn.close()\n",
    "\n",
    "display(df)"
   ]
  },
  {
   "cell_type": "code",
   "execution_count": null,
   "id": "ab2208a5-e68c-441c-b6f3-d18ccf3de720",
   "metadata": {},
   "outputs": [],
   "source": []
  }
 ],
 "metadata": {
  "kernelspec": {
   "display_name": "Python 3 (ipykernel)",
   "language": "python",
   "name": "python3"
  },
  "language_info": {
   "codemirror_mode": {
    "name": "ipython",
    "version": 3
   },
   "file_extension": ".py",
   "mimetype": "text/x-python",
   "name": "python",
   "nbconvert_exporter": "python",
   "pygments_lexer": "ipython3",
   "version": "3.11.7"
  }
 },
 "nbformat": 4,
 "nbformat_minor": 5
}
